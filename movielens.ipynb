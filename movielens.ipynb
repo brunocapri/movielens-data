{
  "nbformat": 4,
  "nbformat_minor": 0,
  "metadata": {
    "colab": {
      "name": "Desafios.ipynb",
      "provenance": [],
      "collapsed_sections": [],
      "toc_visible": true
    },
    "kernelspec": {
      "name": "python3",
      "display_name": "Python 3"
    }
  },
  "cells": [
    {
      "cell_type": "code",
      "metadata": {
        "id": "BB2Ic3doN2if",
        "colab_type": "code",
        "colab": {}
      },
      "source": [
        "import pandas as pd\n",
        "\n",
        "avaliacoes = pd.read_csv(\"https://github.com/alura-cursos/introducao-a-data-science/blob/master/aula0/ml-latest-small/ratings.csv?raw=true\")\n",
        "filmes = pd.read_csv(\"https://raw.githubusercontent.com/alura-cursos/introducao-a-data-science/master/aula0/ml-latest-small/movies.csv\")\n",
        "\n",
        "avaliacoes.columns = ['usuarioId', 'filmeId', 'nota', 'momento']\n",
        "filmes.columns = ['filmeId', 'titulo', 'genero']\n",
        "\n"
      ],
      "execution_count": 0,
      "outputs": []
    },
    {
      "cell_type": "markdown",
      "metadata": {
        "id": "1Bx6XiwVOa06",
        "colab_type": "text"
      },
      "source": [
        "# Desafio 2/3\n",
        "Colocar o número de avaliações por filme, isto é, não só a média mas o TOTAL de votos por filme.\n"
      ]
    },
    {
      "cell_type": "code",
      "metadata": {
        "id": "mb9EjiVHOQxT",
        "colab_type": "code",
        "outputId": "2d7b2862-f31e-49b8-8c45-09ee68055487",
        "colab": {
          "base_uri": "https://localhost:8080/",
          "height": 204
        }
      },
      "source": [
        "\n",
        "\n",
        "#QUANTIDADE DE NOTAS (FILMEID, QUANTIDADE)\n",
        "filme_quantidade = avaliacoes.groupby('filmeId')['nota'].count()\n",
        "#MEDIA DAS NOTAS (FILMEID, MEDIA)\n",
        "media_avaliacoes = avaliacoes.groupby('filmeId')['nota'].mean()\n",
        "\n",
        "#ADICIONANDO NO DATAFRAME FILMES\n",
        "filmes_media = filmes.join(media_avaliacoes, on='filmeId')\n",
        "filmes_media_quantidade = filmes_media.join(filme_quantidade, on='filmeId', lsuffix=\"_left\", rsuffix=\"_right\")\n",
        "\n",
        "\n",
        "\n",
        "#MUDANDO NOMES\n",
        "filmes_media.columns = [\"filmeId\", \"titulo\", \"genero\", \"nota_media\"]\n",
        "filmes_media_quantidade.columns = [\"filmeId\", \"titulo\", \"genero\", \"nota_media\", \"nota_quantidade\"]\n",
        "\n",
        "filmes_media_quantidade.head()\n",
        "\n"
      ],
      "execution_count": 66,
      "outputs": [
        {
          "output_type": "execute_result",
          "data": {
            "text/html": [
              "<div>\n",
              "<style scoped>\n",
              "    .dataframe tbody tr th:only-of-type {\n",
              "        vertical-align: middle;\n",
              "    }\n",
              "\n",
              "    .dataframe tbody tr th {\n",
              "        vertical-align: top;\n",
              "    }\n",
              "\n",
              "    .dataframe thead th {\n",
              "        text-align: right;\n",
              "    }\n",
              "</style>\n",
              "<table border=\"1\" class=\"dataframe\">\n",
              "  <thead>\n",
              "    <tr style=\"text-align: right;\">\n",
              "      <th></th>\n",
              "      <th>filmeId</th>\n",
              "      <th>titulo</th>\n",
              "      <th>genero</th>\n",
              "      <th>nota_media</th>\n",
              "      <th>nota_quantidade</th>\n",
              "    </tr>\n",
              "  </thead>\n",
              "  <tbody>\n",
              "    <tr>\n",
              "      <th>0</th>\n",
              "      <td>1</td>\n",
              "      <td>Toy Story (1995)</td>\n",
              "      <td>Adventure|Animation|Children|Comedy|Fantasy</td>\n",
              "      <td>3.920930</td>\n",
              "      <td>215.0</td>\n",
              "    </tr>\n",
              "    <tr>\n",
              "      <th>1</th>\n",
              "      <td>2</td>\n",
              "      <td>Jumanji (1995)</td>\n",
              "      <td>Adventure|Children|Fantasy</td>\n",
              "      <td>3.431818</td>\n",
              "      <td>110.0</td>\n",
              "    </tr>\n",
              "    <tr>\n",
              "      <th>2</th>\n",
              "      <td>3</td>\n",
              "      <td>Grumpier Old Men (1995)</td>\n",
              "      <td>Comedy|Romance</td>\n",
              "      <td>3.259615</td>\n",
              "      <td>52.0</td>\n",
              "    </tr>\n",
              "    <tr>\n",
              "      <th>3</th>\n",
              "      <td>4</td>\n",
              "      <td>Waiting to Exhale (1995)</td>\n",
              "      <td>Comedy|Drama|Romance</td>\n",
              "      <td>2.357143</td>\n",
              "      <td>7.0</td>\n",
              "    </tr>\n",
              "    <tr>\n",
              "      <th>4</th>\n",
              "      <td>5</td>\n",
              "      <td>Father of the Bride Part II (1995)</td>\n",
              "      <td>Comedy</td>\n",
              "      <td>3.071429</td>\n",
              "      <td>49.0</td>\n",
              "    </tr>\n",
              "  </tbody>\n",
              "</table>\n",
              "</div>"
            ],
            "text/plain": [
              "   filmeId                              titulo  ... nota_media  nota_quantidade\n",
              "0        1                    Toy Story (1995)  ...   3.920930            215.0\n",
              "1        2                      Jumanji (1995)  ...   3.431818            110.0\n",
              "2        3             Grumpier Old Men (1995)  ...   3.259615             52.0\n",
              "3        4            Waiting to Exhale (1995)  ...   2.357143              7.0\n",
              "4        5  Father of the Bride Part II (1995)  ...   3.071429             49.0\n",
              "\n",
              "[5 rows x 5 columns]"
            ]
          },
          "metadata": {
            "tags": []
          },
          "execution_count": 66
        }
      ]
    },
    {
      "cell_type": "markdown",
      "metadata": {
        "id": "xliHUyEod-md",
        "colab_type": "text"
      },
      "source": [
        "# Desafio 1\n",
        "Determine quantos filmes não tem avaliações e quais são esses filmes."
      ]
    },
    {
      "cell_type": "code",
      "metadata": {
        "id": "YOqd8nM4c41Z",
        "colab_type": "code",
        "colab": {
          "base_uri": "https://localhost:8080/",
          "height": 391
        },
        "outputId": "0a1d6a17-7b9f-45c0-990e-d2326e1da46d"
      },
      "source": [
        "filmes_sem_notas = filmes_media_quantidade.query(\"nota_quantidade.isnull()\", engine='python')\n",
        "titulos = filmes_sem_notas['titulo']\n",
        "print(\"TOTAL: \", len(filmes_sem_notas))\n",
        "print(\"\\n\")\n",
        "print(titulos)"
      ],
      "execution_count": 74,
      "outputs": [
        {
          "output_type": "stream",
          "text": [
            "TOTAL:  18\n",
            "\n",
            "\n",
            "816                            Innocents, The (1961)\n",
            "2211                                  Niagara (1953)\n",
            "2499                          For All Mankind (1989)\n",
            "2587    Color of Paradise, The (Rang-e khoda) (1999)\n",
            "3118                  I Know Where I'm Going! (1945)\n",
            "4037                              Chosen, The (1981)\n",
            "4506     Road Home, The (Wo de fu qin mu qin) (1999)\n",
            "4598                                  Scrooge (1970)\n",
            "4704                                    Proof (1991)\n",
            "5020                       Parallax View, The (1974)\n",
            "5293                        This Gun for Hire (1942)\n",
            "5421                    Roaring Twenties, The (1939)\n",
            "5452                     Mutiny on the Bounty (1962)\n",
            "5749              In the Realms of the Unreal (2004)\n",
            "5824                        Twentieth Century (1934)\n",
            "5837                       Call Northside 777 (1948)\n",
            "5957                    Browning Version, The (1951)\n",
            "7565                              Chalet Girl (2011)\n",
            "Name: titulo, dtype: object\n"
          ],
          "name": "stdout"
        }
      ]
    },
    {
      "cell_type": "markdown",
      "metadata": {
        "id": "0c38JqwPfusM",
        "colab_type": "text"
      },
      "source": [
        "# Desafio 4\n",
        "Arredondar as médias (coluna de nota média) para duas casas decimais.**bold text**"
      ]
    },
    {
      "cell_type": "code",
      "metadata": {
        "id": "kXtLoBISf296",
        "colab_type": "code",
        "colab": {
          "base_uri": "https://localhost:8080/",
          "height": 419
        },
        "outputId": "ae78eb35-fabf-4b04-8c68-8c0db0281a4d"
      },
      "source": [
        "filmes_media_quantidade.round(decimals = 2)"
      ],
      "execution_count": 77,
      "outputs": [
        {
          "output_type": "execute_result",
          "data": {
            "text/html": [
              "<div>\n",
              "<style scoped>\n",
              "    .dataframe tbody tr th:only-of-type {\n",
              "        vertical-align: middle;\n",
              "    }\n",
              "\n",
              "    .dataframe tbody tr th {\n",
              "        vertical-align: top;\n",
              "    }\n",
              "\n",
              "    .dataframe thead th {\n",
              "        text-align: right;\n",
              "    }\n",
              "</style>\n",
              "<table border=\"1\" class=\"dataframe\">\n",
              "  <thead>\n",
              "    <tr style=\"text-align: right;\">\n",
              "      <th></th>\n",
              "      <th>filmeId</th>\n",
              "      <th>titulo</th>\n",
              "      <th>genero</th>\n",
              "      <th>nota_media</th>\n",
              "      <th>nota_quantidade</th>\n",
              "    </tr>\n",
              "  </thead>\n",
              "  <tbody>\n",
              "    <tr>\n",
              "      <th>0</th>\n",
              "      <td>1</td>\n",
              "      <td>Toy Story (1995)</td>\n",
              "      <td>Adventure|Animation|Children|Comedy|Fantasy</td>\n",
              "      <td>3.92</td>\n",
              "      <td>215.0</td>\n",
              "    </tr>\n",
              "    <tr>\n",
              "      <th>1</th>\n",
              "      <td>2</td>\n",
              "      <td>Jumanji (1995)</td>\n",
              "      <td>Adventure|Children|Fantasy</td>\n",
              "      <td>3.43</td>\n",
              "      <td>110.0</td>\n",
              "    </tr>\n",
              "    <tr>\n",
              "      <th>2</th>\n",
              "      <td>3</td>\n",
              "      <td>Grumpier Old Men (1995)</td>\n",
              "      <td>Comedy|Romance</td>\n",
              "      <td>3.26</td>\n",
              "      <td>52.0</td>\n",
              "    </tr>\n",
              "    <tr>\n",
              "      <th>3</th>\n",
              "      <td>4</td>\n",
              "      <td>Waiting to Exhale (1995)</td>\n",
              "      <td>Comedy|Drama|Romance</td>\n",
              "      <td>2.36</td>\n",
              "      <td>7.0</td>\n",
              "    </tr>\n",
              "    <tr>\n",
              "      <th>4</th>\n",
              "      <td>5</td>\n",
              "      <td>Father of the Bride Part II (1995)</td>\n",
              "      <td>Comedy</td>\n",
              "      <td>3.07</td>\n",
              "      <td>49.0</td>\n",
              "    </tr>\n",
              "    <tr>\n",
              "      <th>...</th>\n",
              "      <td>...</td>\n",
              "      <td>...</td>\n",
              "      <td>...</td>\n",
              "      <td>...</td>\n",
              "      <td>...</td>\n",
              "    </tr>\n",
              "    <tr>\n",
              "      <th>9737</th>\n",
              "      <td>193581</td>\n",
              "      <td>Black Butler: Book of the Atlantic (2017)</td>\n",
              "      <td>Action|Animation|Comedy|Fantasy</td>\n",
              "      <td>4.00</td>\n",
              "      <td>1.0</td>\n",
              "    </tr>\n",
              "    <tr>\n",
              "      <th>9738</th>\n",
              "      <td>193583</td>\n",
              "      <td>No Game No Life: Zero (2017)</td>\n",
              "      <td>Animation|Comedy|Fantasy</td>\n",
              "      <td>3.50</td>\n",
              "      <td>1.0</td>\n",
              "    </tr>\n",
              "    <tr>\n",
              "      <th>9739</th>\n",
              "      <td>193585</td>\n",
              "      <td>Flint (2017)</td>\n",
              "      <td>Drama</td>\n",
              "      <td>3.50</td>\n",
              "      <td>1.0</td>\n",
              "    </tr>\n",
              "    <tr>\n",
              "      <th>9740</th>\n",
              "      <td>193587</td>\n",
              "      <td>Bungo Stray Dogs: Dead Apple (2018)</td>\n",
              "      <td>Action|Animation</td>\n",
              "      <td>3.50</td>\n",
              "      <td>1.0</td>\n",
              "    </tr>\n",
              "    <tr>\n",
              "      <th>9741</th>\n",
              "      <td>193609</td>\n",
              "      <td>Andrew Dice Clay: Dice Rules (1991)</td>\n",
              "      <td>Comedy</td>\n",
              "      <td>4.00</td>\n",
              "      <td>1.0</td>\n",
              "    </tr>\n",
              "  </tbody>\n",
              "</table>\n",
              "<p>9742 rows × 5 columns</p>\n",
              "</div>"
            ],
            "text/plain": [
              "      filmeId  ... nota_quantidade\n",
              "0           1  ...           215.0\n",
              "1           2  ...           110.0\n",
              "2           3  ...            52.0\n",
              "3           4  ...             7.0\n",
              "4           5  ...            49.0\n",
              "...       ...  ...             ...\n",
              "9737   193581  ...             1.0\n",
              "9738   193583  ...             1.0\n",
              "9739   193585  ...             1.0\n",
              "9740   193587  ...             1.0\n",
              "9741   193609  ...             1.0\n",
              "\n",
              "[9742 rows x 5 columns]"
            ]
          },
          "metadata": {
            "tags": []
          },
          "execution_count": 77
        }
      ]
    },
    {
      "cell_type": "markdown",
      "metadata": {
        "id": "4HOUQ-XchQQu",
        "colab_type": "text"
      },
      "source": [
        "# Desafio 5\n",
        "Descobrir os generos dos filmes (quais são eles, únicos).*italicized text*"
      ]
    },
    {
      "cell_type": "code",
      "metadata": {
        "id": "lbKNuFOChW4r",
        "colab_type": "code",
        "colab": {
          "base_uri": "https://localhost:8080/",
          "height": 669
        },
        "outputId": "d7f04b4a-857b-4129-9ea7-ca9a74da6e89"
      },
      "source": [
        "generos = filmes.groupby('genero')\n",
        "\n",
        "df = generos.apply(pd.DataFrame)\n",
        "\n",
        "teste = df['genero'].str.split(\"|\").to_list()\n",
        "\n",
        "arr = []\n",
        "for i in range (len(teste)):\n",
        "  for j in teste[i]:\n",
        "    arr.append(j)\n",
        "\n",
        "d = {'generos': arr,}\n",
        "generos_totais = pd.DataFrame(d)\n",
        "\n",
        "unicos = generos_totais['generos'].unique() \n",
        "\n",
        "data = {'generos': unicos}\n",
        "generos_unicos = pd.DataFrame(data)\n",
        "\n",
        "\n",
        "generos_unicos\n",
        "\n",
        "\n",
        "\n"
      ],
      "execution_count": 156,
      "outputs": [
        {
          "output_type": "execute_result",
          "data": {
            "text/html": [
              "<div>\n",
              "<style scoped>\n",
              "    .dataframe tbody tr th:only-of-type {\n",
              "        vertical-align: middle;\n",
              "    }\n",
              "\n",
              "    .dataframe tbody tr th {\n",
              "        vertical-align: top;\n",
              "    }\n",
              "\n",
              "    .dataframe thead th {\n",
              "        text-align: right;\n",
              "    }\n",
              "</style>\n",
              "<table border=\"1\" class=\"dataframe\">\n",
              "  <thead>\n",
              "    <tr style=\"text-align: right;\">\n",
              "      <th></th>\n",
              "      <th>generos</th>\n",
              "    </tr>\n",
              "  </thead>\n",
              "  <tbody>\n",
              "    <tr>\n",
              "      <th>0</th>\n",
              "      <td>Adventure</td>\n",
              "    </tr>\n",
              "    <tr>\n",
              "      <th>1</th>\n",
              "      <td>Animation</td>\n",
              "    </tr>\n",
              "    <tr>\n",
              "      <th>2</th>\n",
              "      <td>Children</td>\n",
              "    </tr>\n",
              "    <tr>\n",
              "      <th>3</th>\n",
              "      <td>Comedy</td>\n",
              "    </tr>\n",
              "    <tr>\n",
              "      <th>4</th>\n",
              "      <td>Fantasy</td>\n",
              "    </tr>\n",
              "    <tr>\n",
              "      <th>5</th>\n",
              "      <td>Romance</td>\n",
              "    </tr>\n",
              "    <tr>\n",
              "      <th>6</th>\n",
              "      <td>Drama</td>\n",
              "    </tr>\n",
              "    <tr>\n",
              "      <th>7</th>\n",
              "      <td>Action</td>\n",
              "    </tr>\n",
              "    <tr>\n",
              "      <th>8</th>\n",
              "      <td>Crime</td>\n",
              "    </tr>\n",
              "    <tr>\n",
              "      <th>9</th>\n",
              "      <td>Thriller</td>\n",
              "    </tr>\n",
              "    <tr>\n",
              "      <th>10</th>\n",
              "      <td>Horror</td>\n",
              "    </tr>\n",
              "    <tr>\n",
              "      <th>11</th>\n",
              "      <td>Mystery</td>\n",
              "    </tr>\n",
              "    <tr>\n",
              "      <th>12</th>\n",
              "      <td>Sci-Fi</td>\n",
              "    </tr>\n",
              "    <tr>\n",
              "      <th>13</th>\n",
              "      <td>War</td>\n",
              "    </tr>\n",
              "    <tr>\n",
              "      <th>14</th>\n",
              "      <td>Musical</td>\n",
              "    </tr>\n",
              "    <tr>\n",
              "      <th>15</th>\n",
              "      <td>Documentary</td>\n",
              "    </tr>\n",
              "    <tr>\n",
              "      <th>16</th>\n",
              "      <td>IMAX</td>\n",
              "    </tr>\n",
              "    <tr>\n",
              "      <th>17</th>\n",
              "      <td>Western</td>\n",
              "    </tr>\n",
              "    <tr>\n",
              "      <th>18</th>\n",
              "      <td>Film-Noir</td>\n",
              "    </tr>\n",
              "    <tr>\n",
              "      <th>19</th>\n",
              "      <td>(no genres listed)</td>\n",
              "    </tr>\n",
              "  </tbody>\n",
              "</table>\n",
              "</div>"
            ],
            "text/plain": [
              "               generos\n",
              "0            Adventure\n",
              "1            Animation\n",
              "2             Children\n",
              "3               Comedy\n",
              "4              Fantasy\n",
              "5              Romance\n",
              "6                Drama\n",
              "7               Action\n",
              "8                Crime\n",
              "9             Thriller\n",
              "10              Horror\n",
              "11             Mystery\n",
              "12              Sci-Fi\n",
              "13                 War\n",
              "14             Musical\n",
              "15         Documentary\n",
              "16                IMAX\n",
              "17             Western\n",
              "18           Film-Noir\n",
              "19  (no genres listed)"
            ]
          },
          "metadata": {
            "tags": []
          },
          "execution_count": 156
        }
      ]
    },
    {
      "cell_type": "markdown",
      "metadata": {
        "id": "qPRMKBSR7Hb7",
        "colab_type": "text"
      },
      "source": [
        "# Desafio 6\n",
        "\n",
        " Contar o número de aparições de cada genero."
      ]
    },
    {
      "cell_type": "code",
      "metadata": {
        "id": "hRSlKDOFomGA",
        "colab_type": "code",
        "colab": {
          "base_uri": "https://localhost:8080/",
          "height": 391
        },
        "outputId": "e3906fdf-7741-480b-a4e5-3d43caff0a3e"
      },
      "source": [
        "generos_totais_count = generos_totais.groupby('generos')['generos'].count()"
      ],
      "execution_count": 161,
      "outputs": [
        {
          "output_type": "execute_result",
          "data": {
            "text/plain": [
              "generos\n",
              "(no genres listed)      34\n",
              "Action                1828\n",
              "Adventure             1263\n",
              "Animation              611\n",
              "Children               664\n",
              "Comedy                3756\n",
              "Crime                 1199\n",
              "Documentary            440\n",
              "Drama                 4361\n",
              "Fantasy                779\n",
              "Film-Noir               87\n",
              "Horror                 978\n",
              "IMAX                   158\n",
              "Musical                334\n",
              "Mystery                573\n",
              "Romance               1596\n",
              "Sci-Fi                 980\n",
              "Thriller              1894\n",
              "War                    382\n",
              "Western                167\n",
              "Name: generos, dtype: int64"
            ]
          },
          "metadata": {
            "tags": []
          },
          "execution_count": 161
        }
      ]
    },
    {
      "cell_type": "markdown",
      "metadata": {
        "id": "Kb6nLuU48qdL",
        "colab_type": "text"
      },
      "source": [
        "#Desafio 7\n",
        "\n",
        "Plotar o gráfico de aparições de cada genero. Pode ser um gráfico de tipo igual a barra."
      ]
    },
    {
      "cell_type": "code",
      "metadata": {
        "id": "EJOocpDW8yTo",
        "colab_type": "code",
        "colab": {
          "base_uri": "https://localhost:8080/",
          "height": 374
        },
        "outputId": "514b7bb7-09a4-4ca9-f688-f410795d7416"
      },
      "source": [
        "generos_totais_count.plot(kind=\"bar\")"
      ],
      "execution_count": 163,
      "outputs": [
        {
          "output_type": "execute_result",
          "data": {
            "text/plain": [
              "<matplotlib.axes._subplots.AxesSubplot at 0x7f89303411d0>"
            ]
          },
          "metadata": {
            "tags": []
          },
          "execution_count": 163
        },
        {
          "output_type": "display_data",
          "data": {
            "image/png": "[encoded data removed]",
            "text/plain": [
              "<Figure size 432x288 with 1 Axes>"
            ]
          },
          "metadata": {
            "tags": [],
            "needs_background": "light"
          }
        }
      ]
    }
  ]
}